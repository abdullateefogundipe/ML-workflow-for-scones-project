{
 "cells": [
  {
   "cell_type": "markdown",
   "metadata": {},
   "source": [
    "# Deploy and monitor a machine learning workflow for Image Classification"
   ]
  },
  {
   "cell_type": "markdown",
   "metadata": {},
   "source": [
    "## Setting up this notebook\n",
    "\n",
    "Notes about the instance size and kernel setup: this notebook has been tested on\n",
    "\n",
    "1. The `Python 3 (Data Science)` kernel\n",
    "2. The `ml.t3.medium` instance\n",
    "\n",
    "## Data Staging\n",
    "\n",
    "We'll use a sample dataset called CIFAR to simulate the challenges Scones Unlimited are facing in Image Classification. In order to start working with CIFAR we'll need to:\n",
    "\n",
    "1. Extract the data from a hosting service\n",
    "2. Transform it into a usable shape and format\n",
    "3. Load it into a production system\n",
    "\n",
    "In other words, we're going to do some simple ETL!\n",
    "\n",
    "### 1. Extract the data from the hosting service\n",
    "\n",
    "In the cell below, define a function `extract_cifar_data` that extracts python version of the CIFAR-100 dataset. The CIFAR dataaset is open source and generously hosted by the University of Toronto at: https://www.cs.toronto.edu/~kriz/cifar-100-python.tar.gz "
   ]
  },
  {
   "cell_type": "code",
   "execution_count": 2,
   "metadata": {},
   "outputs": [],
   "source": [
    "import requests\n",
    "\n",
    "def extract_cifar_data(url, filename=\"cifar.tar.gz\"):\n",
    "    \"\"\"A function for extracting the CIFAR-100 dataset and storing it as a gzipped file\n",
    "    \n",
    "    Arguments:\n",
    "    url      -- the URL where the dataset is hosted\n",
    "    filename -- the full path where the dataset will be written\n",
    "    \n",
    "    \"\"\"\n",
    "    \n",
    "    # Todo: request the data from the data url\n",
    "    # Hint: use `requests.get` method\n",
    "    r = requests.get(url)\n",
    "    with open(filename, \"wb\") as file_context:\n",
    "        file_context.write(r.content)\n",
    "    return"
   ]
  },
  {
   "cell_type": "markdown",
   "metadata": {},
   "source": [
    "Let's test it out! Run the following cell and check whether a new file `cifar.tar.gz` is created in the file explorer."
   ]
  },
  {
   "cell_type": "code",
   "execution_count": 3,
   "metadata": {},
   "outputs": [],
   "source": [
    "extract_cifar_data(\"https://www.cs.toronto.edu/~kriz/cifar-100-python.tar.gz\")     "
   ]
  },
  {
   "cell_type": "markdown",
   "metadata": {},
   "source": [
    "### 2. Transform the data into a usable shape and format\n",
    "\n",
    "Clearly, distributing the data as a gzipped archive makes sense for the hosting service! It saves on bandwidth, storage, and it's a widely-used archive format. In fact, it's so widely used that the Python community ships a utility for working with them, `tarfile`, as part of its Standard Library. Execute the following cell to decompress your extracted dataset:"
   ]
  },
  {
   "cell_type": "code",
   "execution_count": 4,
   "metadata": {},
   "outputs": [],
   "source": [
    "import tarfile\n",
    "\n",
    "with tarfile.open(\"cifar.tar.gz\", \"r:gz\") as tar:\n",
    "    tar.extractall()"
   ]
  },
  {
   "cell_type": "markdown",
   "metadata": {},
   "source": [
    "A new folder `cifar-100-python` should be created, containing `meta`, `test`, and `train` files. These files are `pickles` and the [CIFAR homepage](https://www.cs.toronto.edu/~kriz/cifar.html) provides a simple script that can be used to load them. We've adapted the script below for you to run:"
   ]
  },
  {
   "cell_type": "code",
   "execution_count": 5,
   "metadata": {},
   "outputs": [],
   "source": [
    "import pickle\n",
    "\n",
    "with open(\"./cifar-100-python/meta\", \"rb\") as f:\n",
    "    dataset_meta = pickle.load(f, encoding='bytes')\n",
    "\n",
    "with open(\"./cifar-100-python/test\", \"rb\") as f:\n",
    "    dataset_test = pickle.load(f, encoding='bytes')\n",
    "\n",
    "with open(\"./cifar-100-python/train\", \"rb\") as f:\n",
    "    dataset_train = pickle.load(f, encoding='bytes')"
   ]
  },
  {
   "cell_type": "code",
   "execution_count": 6,
   "metadata": {},
   "outputs": [
    {
     "data": {
      "text/plain": [
       "dict_keys([b'filenames', b'batch_label', b'fine_labels', b'coarse_labels', b'data'])"
      ]
     },
     "execution_count": 6,
     "metadata": {},
     "output_type": "execute_result"
    }
   ],
   "source": [
    "# Feel free to explore the datasets\n",
    "\n",
    "dataset_train.keys()"
   ]
  },
  {
   "cell_type": "markdown",
   "metadata": {},
   "source": [
    "As documented on the homepage, `b'data'` contains rows of 3073 unsigned integers, representing three channels (red, green, and blue) for one 32x32 pixel image per row."
   ]
  },
  {
   "cell_type": "code",
   "execution_count": 7,
   "metadata": {},
   "outputs": [
    {
     "data": {
      "text/plain": [
       "3072"
      ]
     },
     "execution_count": 7,
     "metadata": {},
     "output_type": "execute_result"
    }
   ],
   "source": [
    "\n",
    "\n",
    "32*32*3"
   ]
  },
  {
   "cell_type": "markdown",
   "metadata": {},
   "source": [
    "For a simple gut-check, let's transform one of our images. Each 1024 items in a row is a channel (red, green, then blue). Each 32 items in the channel are a row in the 32x32 image. Using python, we can stack these channels into a 32x32x3 array, and save it as a PNG file:"
   ]
  },
  {
   "cell_type": "code",
   "execution_count": 8,
   "metadata": {},
   "outputs": [],
   "source": [
    "\n",
    "import numpy as np\n",
    "\n",
    "# Each 1024 in a row is a channel (red, green, then blue)\n",
    "row = dataset_train[b'data'][0]\n",
    "red, green, blue = row[0:1024], row[1024:2048], row[2048:]\n",
    "\n",
    "# Each 32 items in the channel are a row in the 32x32 image\n",
    "red = red.reshape(32,32)\n",
    "green = green.reshape(32,32)\n",
    "blue = blue.reshape(32,32)\n",
    "\n",
    "# Combine the channels into a 32x32x3 image!\n",
    "combined = np.dstack((red,green,blue))"
   ]
  },
  {
   "cell_type": "markdown",
   "metadata": {},
   "source": [
    "For a more concise version, consider the following:"
   ]
  },
  {
   "cell_type": "code",
   "execution_count": 9,
   "metadata": {},
   "outputs": [],
   "source": [
    "\n",
    "# All in one:\n",
    "test_image = np.dstack((\n",
    "    row[0:1024].reshape(32,32),\n",
    "    row[1024:2048].reshape(32,32),\n",
    "    row[2048:].reshape(32,32)\n",
    "))"
   ]
  },
  {
   "cell_type": "code",
   "execution_count": 10,
   "metadata": {},
   "outputs": [
    {
     "data": {
      "image/png": "[encoded data removed]",
      "text/plain": [
       "<Figure size 432x288 with 1 Axes>"
      ]
     },
     "metadata": {
      "needs_background": "light"
     },
     "output_type": "display_data"
    }
   ],
   "source": [
    "import matplotlib.pyplot as plt\n",
    "plt.imshow(test_image);"
   ]
  },
  {
   "cell_type": "code",
   "execution_count": 11,
   "metadata": {},
   "outputs": [
    {
     "data": {
      "text/plain": [
       "(32, 32, 3)"
      ]
     },
     "execution_count": 11,
     "metadata": {},
     "output_type": "execute_result"
    }
   ],
   "source": [
    "test_image.shape"
   ]
  },
  {
   "cell_type": "markdown",
   "metadata": {},
   "source": [
    "Looks like a cow! Let's check the label. `dataset_meta` contains label names in order, and `dataset_train` has a list of labels for each row."
   ]
  },
  {
   "cell_type": "code",
   "execution_count": 13,
   "metadata": {},
   "outputs": [
    {
     "data": {
      "text/plain": [
       "19"
      ]
     },
     "execution_count": 13,
     "metadata": {},
     "output_type": "execute_result"
    }
   ],
   "source": [
    "dataset_train[b'fine_labels'][0]"
   ]
  },
  {
   "cell_type": "markdown",
   "metadata": {},
   "source": [
    "Our image has a label of `19`, so let's see what the 19th item is in the list of label names."
   ]
  },
  {
   "cell_type": "code",
   "execution_count": 14,
   "metadata": {},
   "outputs": [
    {
     "name": "stdout",
     "output_type": "stream",
     "text": [
      "b'cattle'\n"
     ]
    }
   ],
   "source": [
    "print(dataset_meta[b'fine_label_names'][19])"
   ]
  },
  {
   "cell_type": "markdown",
   "metadata": {},
   "source": [
    "Ok! 'cattle' sounds about right. By the way, using the previous two lines we can do:"
   ]
  },
  {
   "cell_type": "code",
   "execution_count": 15,
   "metadata": {},
   "outputs": [
    {
     "name": "stdout",
     "output_type": "stream",
     "text": [
      "b'cattle'\n"
     ]
    }
   ],
   "source": [
    "n = 0\n",
    "print(dataset_meta[b'fine_label_names'][dataset_train[b'fine_labels'][n]])"
   ]
  },
  {
   "cell_type": "markdown",
   "metadata": {},
   "source": [
    "Now we know how to check labels, is there a way that we can also check file names? `dataset_train` also contains a `b'filenames'` key. Let's see what we have here:"
   ]
  },
  {
   "cell_type": "code",
   "execution_count": 16,
   "metadata": {},
   "outputs": [
    {
     "name": "stdout",
     "output_type": "stream",
     "text": [
      "b'bos_taurus_s_000507.png'\n"
     ]
    }
   ],
   "source": [
    "print(dataset_train[b'filenames'][0])"
   ]
  },
  {
   "cell_type": "markdown",
   "metadata": {},
   "source": [
    "\"Taurus\" is the name of a subspecies of cattle, so this looks like a pretty reasonable filename. To save an image we can also do:"
   ]
  },
  {
   "cell_type": "code",
   "execution_count": 17,
   "metadata": {},
   "outputs": [],
   "source": [
    "plt.imsave(\"file.png\", test_image)"
   ]
  },
  {
   "cell_type": "markdown",
   "metadata": {},
   "source": [
    "Your new PNG file should now appear in the file explorer -- go ahead and pop it open to see!\n",
    "\n",
    "Now that you know how to reshape the images, save them as files, and capture their filenames and labels, let's just capture all the bicycles and motorcycles and save them. Scones Unlimited can use a model that tells these apart to route delivery drivers automatically.\n",
    "\n",
    "In the following cell, identify the label numbers for Bicycles and Motorcycles:"
   ]
  },
  {
   "cell_type": "code",
   "execution_count": 18,
   "metadata": {},
   "outputs": [
    {
     "name": "stdout",
     "output_type": "stream",
     "text": [
      "b'bicycle'\n",
      "23\n",
      "b'motorcycle'\n"
     ]
    },
    {
     "data": {
      "text/plain": [
       "89"
      ]
     },
     "execution_count": 18,
     "metadata": {},
     "output_type": "execute_result"
    }
   ],
   "source": [
    "import pandas as pd\n",
    "\n",
    "# Todo: Filter the dataset_train and dataset_meta objects to find the label numbers for Bicycle and Motorcycles\n",
    "\n",
    "print(dataset_meta[b'fine_label_names'][8])\n",
    "print(dataset_train[b'fine_labels'][8])\n",
    "\n",
    "print(dataset_meta[b'fine_label_names'][48])\n",
    "dataset_train[b'fine_labels'][48]"
   ]
  },
  {
   "cell_type": "markdown",
   "metadata": {},
   "source": [
    "Good job! We only need objects with label 8 and 48 -- this drastically simplifies our handling of the data! Below we construct a dataframe for you, and you can safely drop the rows that don't contain observations about bicycles and motorcycles. Fill in the missing lines below to drop all other rows:"
   ]
  },
  {
   "cell_type": "code",
   "execution_count": 19,
   "metadata": {},
   "outputs": [],
   "source": [
    "#Construct the dataframe\n",
    "df_train = pd.DataFrame({\n",
    "    \"filenames\": dataset_train[b'filenames'],\n",
    "    \"labels\": dataset_train[b'fine_labels'],\n",
    "    \"row\": range(len(dataset_train[b'filenames']))\n",
    "})\n",
    "\n",
    "# Drop all rows from df_train where label is not 8 or 48\n",
    "#df_train = df_train.drop(dataset_train[b'fine_labels'] != [8,48], axis=1)#TODO: Fill in"
   ]
  },
  {
   "cell_type": "code",
   "execution_count": 20,
   "metadata": {},
   "outputs": [],
   "source": [
    "\n",
    "df_train= df_train.loc[(df_train['labels'] == 8) | (df_train['labels'] == 48)]"
   ]
  },
  {
   "cell_type": "code",
   "execution_count": 21,
   "metadata": {},
   "outputs": [
    {
     "data": {
      "text/html": [
       "<div>\n",
       "<style scoped>\n",
       "    .dataframe tbody tr th:only-of-type {\n",
       "        vertical-align: middle;\n",
       "    }\n",
       "\n",
       "    .dataframe tbody tr th {\n",
       "        vertical-align: top;\n",
       "    }\n",
       "\n",
       "    .dataframe thead th {\n",
       "        text-align: right;\n",
       "    }\n",
       "</style>\n",
       "<table border=\"1\" class=\"dataframe\">\n",
       "  <thead>\n",
       "    <tr style=\"text-align: right;\">\n",
       "      <th></th>\n",
       "      <th>filenames</th>\n",
       "      <th>labels</th>\n",
       "      <th>row</th>\n",
       "    </tr>\n",
       "  </thead>\n",
       "  <tbody>\n",
       "    <tr>\n",
       "      <th>16</th>\n",
       "      <td>b'bike_s_000682.png'</td>\n",
       "      <td>8</td>\n",
       "      <td>16</td>\n",
       "    </tr>\n",
       "    <tr>\n",
       "      <th>30</th>\n",
       "      <td>b'bike_s_000127.png'</td>\n",
       "      <td>8</td>\n",
       "      <td>30</td>\n",
       "    </tr>\n",
       "    <tr>\n",
       "      <th>130</th>\n",
       "      <td>b'cycle_s_002598.png'</td>\n",
       "      <td>8</td>\n",
       "      <td>130</td>\n",
       "    </tr>\n",
       "    <tr>\n",
       "      <th>152</th>\n",
       "      <td>b'minibike_s_000824.png'</td>\n",
       "      <td>48</td>\n",
       "      <td>152</td>\n",
       "    </tr>\n",
       "    <tr>\n",
       "      <th>195</th>\n",
       "      <td>b'motorcycle_s_001856.png'</td>\n",
       "      <td>48</td>\n",
       "      <td>195</td>\n",
       "    </tr>\n",
       "    <tr>\n",
       "      <th>...</th>\n",
       "      <td>...</td>\n",
       "      <td>...</td>\n",
       "      <td>...</td>\n",
       "    </tr>\n",
       "    <tr>\n",
       "      <th>49578</th>\n",
       "      <td>b'velocipede_s_000010.png'</td>\n",
       "      <td>8</td>\n",
       "      <td>49578</td>\n",
       "    </tr>\n",
       "    <tr>\n",
       "      <th>49588</th>\n",
       "      <td>b'motorcycle_s_001247.png'</td>\n",
       "      <td>48</td>\n",
       "      <td>49588</td>\n",
       "    </tr>\n",
       "    <tr>\n",
       "      <th>49882</th>\n",
       "      <td>b'motorcycle_s_000724.png'</td>\n",
       "      <td>48</td>\n",
       "      <td>49882</td>\n",
       "    </tr>\n",
       "    <tr>\n",
       "      <th>49962</th>\n",
       "      <td>b'velocipede_s_001637.png'</td>\n",
       "      <td>8</td>\n",
       "      <td>49962</td>\n",
       "    </tr>\n",
       "    <tr>\n",
       "      <th>49985</th>\n",
       "      <td>b'motorcycle_s_000291.png'</td>\n",
       "      <td>48</td>\n",
       "      <td>49985</td>\n",
       "    </tr>\n",
       "  </tbody>\n",
       "</table>\n",
       "<p>1000 rows × 3 columns</p>\n",
       "</div>"
      ],
      "text/plain": [
       "                        filenames  labels    row\n",
       "16           b'bike_s_000682.png'       8     16\n",
       "30           b'bike_s_000127.png'       8     30\n",
       "130         b'cycle_s_002598.png'       8    130\n",
       "152      b'minibike_s_000824.png'      48    152\n",
       "195    b'motorcycle_s_001856.png'      48    195\n",
       "...                           ...     ...    ...\n",
       "49578  b'velocipede_s_000010.png'       8  49578\n",
       "49588  b'motorcycle_s_001247.png'      48  49588\n",
       "49882  b'motorcycle_s_000724.png'      48  49882\n",
       "49962  b'velocipede_s_001637.png'       8  49962\n",
       "49985  b'motorcycle_s_000291.png'      48  49985\n",
       "\n",
       "[1000 rows x 3 columns]"
      ]
     },
     "execution_count": 21,
     "metadata": {},
     "output_type": "execute_result"
    }
   ],
   "source": [
    "df_train"
   ]
  },
  {
   "cell_type": "code",
   "execution_count": 22,
   "metadata": {},
   "outputs": [],
   "source": [
    "# #Construct the dataframe\n",
    "# df_train = pd.DataFrame({\n",
    "#     \"filenames\": dataset_train[b'filenames'],\n",
    "#     \"labels\": dataset_train[b'fine_labels'],\n",
    "#     \"row\": range(len(dataset_train[b'filenames']))\n",
    "# })\n",
    "\n",
    "# # Drop all rows from df_train where label is not 8 or 48\n",
    "# df_train = df_train.drop(labels != [8,48], axis=0)#TODO: Fill in\n",
    "\n",
    "# Decode df_train.filenames so they are regular strings\n",
    "df_train[\"filenames\"] = df_train[\"filenames\"].apply(\n",
    "    lambda x: x.decode(\"utf-8\")\n",
    ")\n",
    "\n",
    "\n",
    "df_test = pd.DataFrame({\n",
    "    \"filenames\": dataset_test[b'filenames'],\n",
    "    \"labels\": dataset_test[b'fine_labels'],\n",
    "    \"row\": range(len(dataset_test[b'filenames']))\n",
    "})\n",
    "\n",
    "# Drop all rows from df_test where label is not 8 or 48\n",
    "df_test = df_test.loc[(df_test['labels'] == 8) | (df_test['labels'] == 48)]\n",
    "#TODO: Fill in\n",
    "\n",
    "# Decode df_test.filenames so they are regular strings\n",
    "df_test[\"filenames\"] = df_test[\"filenames\"].apply(\n",
    "    lambda x: x.decode(\"utf-8\")\n",
    ")"
   ]
  },
  {
   "cell_type": "markdown",
   "metadata": {},
   "source": [
    "Now that the data is filtered for just our classes, we can save all our images."
   ]
  },
  {
   "cell_type": "code",
   "execution_count": 31,
   "metadata": {},
   "outputs": [
    {
     "name": "stdout",
     "output_type": "stream",
     "text": [
      "mkdir: cannot create directory ‘./train’: File exists\n",
      "mkdir: cannot create directory ‘./test’: File exists\n"
     ]
    }
   ],
   "source": [
    "!mkdir ./train\n",
    "!mkdir ./test"
   ]
  },
  {
   "cell_type": "markdown",
   "metadata": {},
   "source": [
    "In the previous sections we introduced you to several key snippets of code:\n",
    "\n",
    "1. Grabbing the image data:\n",
    "\n",
    "```python\n",
    "dataset_train[b'data'][0]\n",
    "```\n",
    "\n",
    "2. A simple idiom for stacking the image data into the right shape\n",
    "\n",
    "```python\n",
    "import numpy as np\n",
    "np.dstack((\n",
    "    row[0:1024].reshape(32,32),\n",
    "    row[1024:2048].reshape(32,32),\n",
    "    row[2048:].reshape(32,32)\n",
    "))\n",
    "```\n",
    "\n",
    "3. A simple `matplotlib` utility for saving images\n",
    "\n",
    "```python\n",
    "plt.imsave(path+row['filenames'], target)\n",
    "```\n",
    "\n",
    "Compose these together into a function that saves all the images into the `./test` and `./train` directories. Use the comments in the body of the `save_images` function below to guide your construction of the function:\n"
   ]
  },
  {
   "cell_type": "code",
   "execution_count": 23,
   "metadata": {},
   "outputs": [],
   "source": [
    "def save_images(dataset,path,df):  #t\n",
    "    #Grab the image data in row-major form\n",
    "    for x in df['row']:\n",
    "        img = dataset[b'data'][x]\n",
    "\n",
    "        # Consolidated stacking/reshaping from earlier\n",
    "        target = np.dstack((\n",
    "                        img[0:1024].reshape(32,32),\n",
    "                        img[1024:2048].reshape(32,32),\n",
    "                        img[2048:].reshape(32,32)\n",
    "                    ))\n",
    "            # Save the image\n",
    "        plt.imsave(path+df['filenames'][x], target)\n",
    "        \n",
    "            # Return any signal data you want for debugging\n",
    "    return\n",
    "\n",
    "## TODO: save ALL images using the save_images function\n",
    "\n",
    "#save_images(dataset_train, './train', df_train)"
   ]
  },
  {
   "cell_type": "code",
   "execution_count": 33,
   "metadata": {},
   "outputs": [],
   "source": [
    "#for x in df_train['row']:\n",
    "save_images(dataset_train, \"./train/\", df_train)\n"
   ]
  },
  {
   "cell_type": "code",
   "execution_count": 34,
   "metadata": {},
   "outputs": [],
   "source": [
    "save_images(dataset_test, \"./test/\", df_test)"
   ]
  },
  {
   "cell_type": "markdown",
   "metadata": {},
   "source": [
    "### 3. Load the data\n",
    "\n",
    "Now we can load the data into S3.\n",
    "\n",
    "Using the sagemaker SDK grab the current region, execution role, and bucket."
   ]
  },
  {
   "cell_type": "code",
   "execution_count": 3,
   "metadata": {},
   "outputs": [
    {
     "name": "stdout",
     "output_type": "stream",
     "text": [
      "Default Bucket: new-lesson\n",
      "AWS Region: us-east-1\n",
      "RoleArn: AmazonSageMaker-ExecutionRole-20211204T132264\n"
     ]
    }
   ],
   "source": [
    "import sagemaker\n",
    "\n",
    "\n",
    "bucket= \"new-lesson\" ## TODO: fill in\n",
    "print(\"Default Bucket: {}\".format(bucket))\n",
    "\n",
    "region = \"us-east-1\"## TODO: fill in\n",
    "print(\"AWS Region: {}\".format(region))\n",
    "\n",
    "role = \"AmazonSageMaker-ExecutionRole-20211204T132264\"## TODO: fill in\n",
    "print(\"RoleArn: {}\".format(role))"
   ]
  },
  {
   "cell_type": "markdown",
   "metadata": {},
   "source": [
    "With this data we can easily sync your data up into S3!"
   ]
  },
  {
   "cell_type": "code",
   "execution_count": 13,
   "metadata": {},
   "outputs": [],
   "source": [
    "import os\n",
    "\n",
    "os.environ[\"DEFAULT_S3_BUCKET\"] = bucket\n",
    "!aws s3 sync ./train s3://${DEFAULT_S3_BUCKET}/train/\n",
    "!aws s3 sync ./test s3://${DEFAULT_S3_BUCKET}/test/"
   ]
  },
  {
   "cell_type": "markdown",
   "metadata": {},
   "source": [
    "And that's it! You can check the bucket and verify that the items were uploaded.\n",
    "\n",
    "## Model Training\n",
    "\n",
    "For Image Classification, Sagemaker [also expects metadata](https://docs.aws.amazon.com/sagemaker/latest/dg/image-classification.html) e.g. in the form of TSV files with labels and filepaths. We can generate these using our Pandas DataFrames from earlier:"
   ]
  },
  {
   "cell_type": "code",
   "execution_count": 2,
   "metadata": {},
   "outputs": [],
   "source": [
    "def to_metadata_file(df, prefix):\n",
    "    df[\"s3_path\"] = df[\"filenames\"]\n",
    "    df[\"labels\"] = df[\"labels\"].apply(lambda x: 0 if x==8 else 1)\n",
    "    return df[[\"row\", \"labels\", \"s3_path\"]].to_csv(\n",
    "        f\"{prefix}.lst\", sep=\"\\t\", index=False, header=False\n",
    "    )\n",
    "    \n",
    "to_metadata_file(df_train.copy(), \"train\")\n",
    "to_metadata_file(df_test.copy(), \"test\")"
   ]
  },
  {
   "cell_type": "markdown",
   "metadata": {},
   "source": [
    "We can also upload our manifest files:"
   ]
  },
  {
   "cell_type": "code",
   "execution_count": 6,
   "metadata": {},
   "outputs": [],
   "source": [
    "import boto3\n",
    "\n",
    "# Upload files\n",
    "boto3.Session().resource('s3').Bucket(\n",
    "    bucket).Object('train.lst').upload_file('./train.lst')\n",
    "boto3.Session().resource('s3').Bucket(\n",
    "    bucket).Object('test.lst').upload_file('./test.lst')"
   ]
  },
  {
   "cell_type": "markdown",
   "metadata": {},
   "source": [
    "Using the `bucket` and `region` info we can get the latest prebuilt container to run our training job, and define an output location on our s3 bucket for the model. Use the `image_uris` function from the SageMaker SDK to retrieve the latest `image-classification` image below:"
   ]
  },
  {
   "cell_type": "code",
   "execution_count": 7,
   "metadata": {},
   "outputs": [
    {
     "name": "stdout",
     "output_type": "stream",
     "text": [
      "/opt/conda/lib/python3.7/site-packages/secretstorage/dhcrypto.py:16: CryptographyDeprecationWarning: int_from_bytes is deprecated, use int.from_bytes instead\n",
      "  from cryptography.utils import int_from_bytes\n",
      "/opt/conda/lib/python3.7/site-packages/secretstorage/util.py:25: CryptographyDeprecationWarning: int_from_bytes is deprecated, use int.from_bytes instead\n",
      "  from cryptography.utils import int_from_bytes\n",
      "Requirement already satisfied: sagemaker in /opt/conda/lib/python3.7/site-packages (2.70.0)\n",
      "Collecting sagemaker\n",
      "  Using cached sagemaker-2.72.1-py2.py3-none-any.whl\n",
      "Requirement already satisfied: pandas in /opt/conda/lib/python3.7/site-packages (from sagemaker) (1.0.1)\n",
      "Requirement already satisfied: boto3>=1.20.18 in /opt/conda/lib/python3.7/site-packages (from sagemaker) (1.20.23)\n",
      "Requirement already satisfied: pathos in /opt/conda/lib/python3.7/site-packages (from sagemaker) (0.2.8)\n",
      "Requirement already satisfied: packaging>=20.0 in /opt/conda/lib/python3.7/site-packages (from sagemaker) (20.1)\n",
      "Requirement already satisfied: google-pasta in /opt/conda/lib/python3.7/site-packages (from sagemaker) (0.2.0)\n",
      "Requirement already satisfied: smdebug-rulesconfig==1.0.1 in /opt/conda/lib/python3.7/site-packages (from sagemaker) (1.0.1)\n",
      "Requirement already satisfied: protobuf>=3.1 in /opt/conda/lib/python3.7/site-packages (from sagemaker) (3.19.1)\n",
      "Requirement already satisfied: importlib-metadata>=1.4.0 in /opt/conda/lib/python3.7/site-packages (from sagemaker) (1.5.0)\n",
      "Requirement already satisfied: protobuf3-to-dict>=0.1.5 in /opt/conda/lib/python3.7/site-packages (from sagemaker) (0.1.5)\n",
      "Requirement already satisfied: numpy>=1.9.0 in /opt/conda/lib/python3.7/site-packages (from sagemaker) (1.20.3)\n",
      "Requirement already satisfied: attrs in /opt/conda/lib/python3.7/site-packages (from sagemaker) (19.3.0)\n",
      "Requirement already satisfied: jmespath<1.0.0,>=0.7.1 in /opt/conda/lib/python3.7/site-packages (from boto3>=1.20.18->sagemaker) (0.10.0)\n",
      "Requirement already satisfied: botocore<1.24.0,>=1.23.23 in /opt/conda/lib/python3.7/site-packages (from boto3>=1.20.18->sagemaker) (1.23.23)\n",
      "Requirement already satisfied: s3transfer<0.6.0,>=0.5.0 in /opt/conda/lib/python3.7/site-packages (from boto3>=1.20.18->sagemaker) (0.5.0)\n",
      "Requirement already satisfied: zipp>=0.5 in /opt/conda/lib/python3.7/site-packages (from importlib-metadata>=1.4.0->sagemaker) (2.2.0)\n",
      "Requirement already satisfied: pyparsing>=2.0.2 in /opt/conda/lib/python3.7/site-packages (from packaging>=20.0->sagemaker) (2.4.6)\n",
      "Requirement already satisfied: six in /opt/conda/lib/python3.7/site-packages (from packaging>=20.0->sagemaker) (1.14.0)\n",
      "Requirement already satisfied: pytz>=2017.2 in /opt/conda/lib/python3.7/site-packages (from pandas->sagemaker) (2019.3)\n",
      "Requirement already satisfied: python-dateutil>=2.6.1 in /opt/conda/lib/python3.7/site-packages (from pandas->sagemaker) (2.8.1)\n",
      "Requirement already satisfied: dill>=0.3.4 in /opt/conda/lib/python3.7/site-packages (from pathos->sagemaker) (0.3.4)\n",
      "Requirement already satisfied: ppft>=1.6.6.4 in /opt/conda/lib/python3.7/site-packages (from pathos->sagemaker) (1.6.6.4)\n",
      "Requirement already satisfied: multiprocess>=0.70.12 in /opt/conda/lib/python3.7/site-packages (from pathos->sagemaker) (0.70.12.2)\n",
      "Requirement already satisfied: pox>=0.3.0 in /opt/conda/lib/python3.7/site-packages (from pathos->sagemaker) (0.3.0)\n",
      "Requirement already satisfied: urllib3<1.27,>=1.25.4 in /opt/conda/lib/python3.7/site-packages (from botocore<1.24.0,>=1.23.23->boto3>=1.20.18->sagemaker) (1.26.7)\n",
      "Installing collected packages: sagemaker\n",
      "  Attempting uninstall: sagemaker\n",
      "    Found existing installation: sagemaker 2.70.0\n",
      "    Uninstalling sagemaker-2.70.0:\n",
      "      Successfully uninstalled sagemaker-2.70.0\n",
      "Successfully installed sagemaker-2.72.1\n",
      "\u001b[33mWARNING: Running pip as the 'root' user can result in broken permissions and conflicting behaviour with the system package manager. It is recommended to use a virtual environment instead: https://pip.pypa.io/warnings/venv\u001b[0m\n",
      "Note: you may need to restart the kernel to use updated packages.\n"
     ]
    }
   ],
   "source": [
    "pip install -U sagemaker"
   ]
  },
  {
   "cell_type": "code",
   "execution_count": 8,
   "metadata": {},
   "outputs": [],
   "source": [
    "# Use the image_uris function to retrieve the latest 'image-classification' image \n",
    "algo_image = sagemaker.image_uris.retrieve('image-classification',region= 'us-east-1' ) ## TODO: fill in\n",
    "s3_output_location = f\"s3://{bucket}/models/image_model\""
   ]
  },
  {
   "cell_type": "markdown",
   "metadata": {},
   "source": [
    "We're ready to create an estimator! Create an estimator `img_classifier_model` that uses one instance of `ml.p2.xlarge`. Ensure that y ou use the output location we defined above - we'll be referring to that later!"
   ]
  },
  {
   "cell_type": "code",
   "execution_count": 33,
   "metadata": {},
   "outputs": [
    {
     "data": {
      "text/plain": [
       "'811284229777.dkr.ecr.us-east-1.amazonaws.com/image-classification:1'"
      ]
     },
     "execution_count": 33,
     "metadata": {},
     "output_type": "execute_result"
    }
   ],
   "source": [
    "algo_image"
   ]
  },
  {
   "cell_type": "code",
   "execution_count": 9,
   "metadata": {},
   "outputs": [],
   "source": [
    "img_classifier_model=sagemaker.estimator.Estimator(\n",
    "    image_uri=algo_image,\n",
    "    role=role,\n",
    "    instance_count=1,\n",
    "    instance_type='ml.p2.xlarge',\n",
    "    volume_size=5,\n",
    "    output_path=s3_output_location,\n",
    "    sagemaker_session=sagemaker.Session() ## TODO: define your estimator options    \n",
    ")"
   ]
  },
  {
   "cell_type": "markdown",
   "metadata": {},
   "source": [
    "We can also set a few key hyperparameters and define the inputs for our model:"
   ]
  },
  {
   "cell_type": "code",
   "execution_count": 13,
   "metadata": {},
   "outputs": [],
   "source": [
    "img_classifier_model.set_hyperparameters(\n",
    "    image_shape='3,32,32', # TODO: Fill in\n",
    "    num_classes=2, # TODO: Fill in\n",
    "    num_training_samples= 1000 # TODO: fill in\n",
    ")"
   ]
  },
  {
   "cell_type": "code",
   "execution_count": null,
   "metadata": {},
   "outputs": [],
   "source": []
  },
  {
   "cell_type": "markdown",
   "metadata": {},
   "source": [
    "The `image-classification` image uses four input channels with very specific input parameters. For convenience, we've provided them below:"
   ]
  },
  {
   "cell_type": "code",
   "execution_count": 14,
   "metadata": {},
   "outputs": [],
   "source": [
    "from sagemaker.debugger import Rule, rule_configs\n",
    "from sagemaker.session import TrainingInput\n",
    "model_inputs = {\n",
    "        \"train\": sagemaker.inputs.TrainingInput(\n",
    "            s3_data=f\"s3://{bucket}/train/\",\n",
    "            content_type=\"application/x-image\"\n",
    "        ),\n",
    "        \"validation\": sagemaker.inputs.TrainingInput(\n",
    "            s3_data=f\"s3://{bucket}/test/\",\n",
    "            content_type=\"application/x-image\"\n",
    "        ),\n",
    "        \"train_lst\": sagemaker.inputs.TrainingInput(\n",
    "            s3_data=f\"s3://{bucket}/train.lst\",\n",
    "            content_type=\"application/x-image\"\n",
    "        ),\n",
    "        \"validation_lst\": sagemaker.inputs.TrainingInput(\n",
    "            s3_data=f\"s3://{bucket}/test.lst\",\n",
    "            content_type=\"application/x-image\"\n",
    "        )\n",
    "}"
   ]
  },
  {
   "cell_type": "markdown",
   "metadata": {},
   "source": [
    "Great, now we can train the model using the model_inputs. In the cell below, call the `fit` method on our model,:"
   ]
  },
  {
   "cell_type": "code",
   "execution_count": 15,
   "metadata": {},
   "outputs": [
    {
     "name": "stdout",
     "output_type": "stream",
     "text": [
      "2021-12-23 13:55:51 Starting - Starting the training job...\n",
      "2021-12-23 13:56:14 Starting - Launching requested ML instancesProfilerReport-1640267751: InProgress\n",
      "......\n",
      "2021-12-23 13:57:15 Starting - Preparing the instances for training.........\n",
      "2021-12-23 13:58:40 Downloading - Downloading input data...\n",
      "2021-12-23 13:59:15 Training - Downloading the training image......\n",
      "2021-12-23 14:00:22 Training - Training image download completed. Training in progress..\u001b[34mDocker entrypoint called with argument(s): train\u001b[0m\n",
      "\u001b[34m[12/23/2021 14:00:26 INFO 140036021421888] Reading default configuration from /opt/amazon/lib/python3.7/site-packages/image_classification/default-input.json: {'use_pretrained_model': 0, 'num_layers': 152, 'epochs': 30, 'learning_rate': 0.1, 'lr_scheduler_factor': 0.1, 'optimizer': 'sgd', 'momentum': 0, 'weight_decay': 0.0001, 'beta_1': 0.9, 'beta_2': 0.999, 'eps': 1e-08, 'gamma': 0.9, 'mini_batch_size': 32, 'image_shape': '3,224,224', 'precision_dtype': 'float32'}\u001b[0m\n",
      "\u001b[34m[12/23/2021 14:00:26 INFO 140036021421888] Merging with provided configuration from /opt/ml/input/config/hyperparameters.json: {'num_classes': '2', 'num_training_samples': '1000', 'image_shape': '3,32,32'}\u001b[0m\n",
      "\u001b[34m[12/23/2021 14:00:26 INFO 140036021421888] Final configuration: {'use_pretrained_model': 0, 'num_layers': 152, 'epochs': 30, 'learning_rate': 0.1, 'lr_scheduler_factor': 0.1, 'optimizer': 'sgd', 'momentum': 0, 'weight_decay': 0.0001, 'beta_1': 0.9, 'beta_2': 0.999, 'eps': 1e-08, 'gamma': 0.9, 'mini_batch_size': 32, 'image_shape': '3,32,32', 'precision_dtype': 'float32', 'num_classes': '2', 'num_training_samples': '1000'}\u001b[0m\n",
      "\u001b[34m[12/23/2021 14:00:26 INFO 140036021421888] Searching for .lst files in /opt/ml/input/data/train_lst.\u001b[0m\n",
      "\u001b[34m[12/23/2021 14:00:26 INFO 140036021421888] Creating record files for train.lst\u001b[0m\n",
      "\u001b[34m[12/23/2021 14:00:26 INFO 140036021421888] Done creating record files...\u001b[0m\n",
      "\u001b[34m[12/23/2021 14:00:26 INFO 140036021421888] Searching for .lst files in /opt/ml/input/data/validation_lst.\u001b[0m\n",
      "\u001b[34m[12/23/2021 14:00:26 INFO 140036021421888] Creating record files for test.lst\u001b[0m\n",
      "\u001b[34m[12/23/2021 14:00:26 INFO 140036021421888] Done creating record files...\u001b[0m\n",
      "\u001b[34m[12/23/2021 14:00:26 INFO 140036021421888] use_pretrained_model: 0\u001b[0m\n",
      "\u001b[34m[12/23/2021 14:00:26 INFO 140036021421888] multi_label: 0\u001b[0m\n",
      "\u001b[34m[12/23/2021 14:00:26 INFO 140036021421888] Performing random weight initialization\u001b[0m\n",
      "\u001b[34m[12/23/2021 14:00:26 INFO 140036021421888] ---- Parameters ----\u001b[0m\n",
      "\u001b[34m[12/23/2021 14:00:26 INFO 140036021421888] num_layers: 152\u001b[0m\n",
      "\u001b[34m[12/23/2021 14:00:26 INFO 140036021421888] data type: <class 'numpy.float32'>\u001b[0m\n",
      "\u001b[34m[12/23/2021 14:00:26 INFO 140036021421888] epochs: 30\u001b[0m\n",
      "\u001b[34m[12/23/2021 14:00:26 INFO 140036021421888] optimizer: sgd\u001b[0m\n",
      "\u001b[34m[12/23/2021 14:00:26 INFO 140036021421888] momentum: 0.9\u001b[0m\n",
      "\u001b[34m[12/23/2021 14:00:26 INFO 140036021421888] weight_decay: 0.0001\u001b[0m\n",
      "\u001b[34m[12/23/2021 14:00:26 INFO 140036021421888] learning_rate: 0.1\u001b[0m\n",
      "\u001b[34m[12/23/2021 14:00:26 INFO 140036021421888] num_training_samples: 1000\u001b[0m\n",
      "\u001b[34m[12/23/2021 14:00:26 INFO 140036021421888] mini_batch_size: 32\u001b[0m\n",
      "\u001b[34m[12/23/2021 14:00:26 INFO 140036021421888] image_shape: 3,32,32\u001b[0m\n",
      "\u001b[34m[12/23/2021 14:00:26 INFO 140036021421888] num_classes: 2\u001b[0m\n",
      "\u001b[34m[12/23/2021 14:00:26 INFO 140036021421888] augmentation_type: None\u001b[0m\n",
      "\u001b[34m[12/23/2021 14:00:26 INFO 140036021421888] kv_store: device\u001b[0m\n",
      "\u001b[34m[12/23/2021 14:00:26 INFO 140036021421888] checkpoint_frequency not set, will store the best model\u001b[0m\n",
      "\u001b[34m[12/23/2021 14:00:26 INFO 140036021421888] --------------------\u001b[0m\n",
      "\u001b[34m[12/23/2021 14:00:26 INFO 140036021421888] Setting number of threads: 3\u001b[0m\n",
      "\u001b[34m[14:00:33] /opt/brazil-pkg-cache/packages/AIAlgorithmsMXNet/AIAlgorithmsMXNet-1.3.x_ecl_Cuda_10.1.x.10042.0/AL2_x86_64/generic-flavor/src/src/operator/nn/./cudnn/./cudnn_algoreg-inl.h:97: Running performance tests to find the best convolution algorithm, this can take a while... (setting env variable MXNET_CUDNN_AUTOTUNE_DEFAULT to 0 to disable)\u001b[0m\n",
      "\u001b[34m[12/23/2021 14:00:52 INFO 140036021421888] Epoch[0] Batch [20]#011Speed: 33.525 samples/sec#011accuracy=0.559524\u001b[0m\n",
      "\u001b[34m[12/23/2021 14:00:58 INFO 140036021421888] Epoch[0] Train-accuracy=0.604839\u001b[0m\n",
      "\u001b[34m[12/23/2021 14:00:58 INFO 140036021421888] Epoch[0] Time cost=24.968\u001b[0m\n",
      "\u001b[34m[12/23/2021 14:00:59 INFO 140036021421888] Epoch[0] Validation-accuracy=0.604167\u001b[0m\n",
      "\u001b[34m[12/23/2021 14:01:00 INFO 140036021421888] Storing the best model with validation accuracy: 0.604167\u001b[0m\n",
      "\u001b[34m[12/23/2021 14:01:00 INFO 140036021421888] Saved checkpoint to \"/opt/ml/model/image-classification-0001.params\"\u001b[0m\n",
      "\u001b[34m[12/23/2021 14:01:12 INFO 140036021421888] Epoch[1] Batch [20]#011Speed: 53.141 samples/sec#011accuracy=0.694940\u001b[0m\n",
      "\u001b[34m[12/23/2021 14:01:18 INFO 140036021421888] Epoch[1] Train-accuracy=0.684476\u001b[0m\n",
      "\u001b[34m[12/23/2021 14:01:18 INFO 140036021421888] Epoch[1] Time cost=17.924\u001b[0m\n",
      "\u001b[34m[12/23/2021 14:01:20 INFO 140036021421888] Epoch[1] Validation-accuracy=0.500000\u001b[0m\n",
      "\u001b[34m[12/23/2021 14:01:32 INFO 140036021421888] Epoch[2] Batch [20]#011Speed: 53.028 samples/sec#011accuracy=0.694940\u001b[0m\n",
      "\u001b[34m[12/23/2021 14:01:38 INFO 140036021421888] Epoch[2] Train-accuracy=0.693548\u001b[0m\n",
      "\u001b[34m[12/23/2021 14:01:38 INFO 140036021421888] Epoch[2] Time cost=17.946\u001b[0m\n",
      "\u001b[34m[12/23/2021 14:01:39 INFO 140036021421888] Epoch[2] Validation-accuracy=0.729167\u001b[0m\n",
      "\u001b[34m[12/23/2021 14:01:40 INFO 140036021421888] Storing the best model with validation accuracy: 0.729167\u001b[0m\n",
      "\u001b[34m[12/23/2021 14:01:40 INFO 140036021421888] Saved checkpoint to \"/opt/ml/model/image-classification-0003.params\"\u001b[0m\n",
      "\u001b[34m[12/23/2021 14:01:52 INFO 140036021421888] Epoch[3] Batch [20]#011Speed: 53.642 samples/sec#011accuracy=0.761905\u001b[0m\n",
      "\u001b[34m[12/23/2021 14:01:58 INFO 140036021421888] Epoch[3] Train-accuracy=0.773185\u001b[0m\n",
      "\u001b[34m[12/23/2021 14:01:58 INFO 140036021421888] Epoch[3] Time cost=17.831\u001b[0m\n",
      "\u001b[34m[12/23/2021 14:02:00 INFO 140036021421888] Epoch[3] Validation-accuracy=0.808036\u001b[0m\n",
      "\u001b[34m[12/23/2021 14:02:00 INFO 140036021421888] Storing the best model with validation accuracy: 0.808036\u001b[0m\n",
      "\u001b[34m[12/23/2021 14:02:00 INFO 140036021421888] Saved checkpoint to \"/opt/ml/model/image-classification-0004.params\"\u001b[0m\n",
      "\u001b[34m[12/23/2021 14:02:12 INFO 140036021421888] Epoch[4] Batch [20]#011Speed: 53.047 samples/sec#011accuracy=0.751488\u001b[0m\n",
      "\u001b[34m[12/23/2021 14:02:18 INFO 140036021421888] Epoch[4] Train-accuracy=0.750000\u001b[0m\n",
      "\u001b[34m[12/23/2021 14:02:18 INFO 140036021421888] Epoch[4] Time cost=17.941\u001b[0m\n",
      "\u001b[34m[12/23/2021 14:02:20 INFO 140036021421888] Epoch[4] Validation-accuracy=0.802083\u001b[0m\n",
      "\u001b[34m[12/23/2021 14:02:32 INFO 140036021421888] Epoch[5] Batch [20]#011Speed: 53.634 samples/sec#011accuracy=0.763393\u001b[0m\n",
      "\u001b[34m[12/23/2021 14:02:38 INFO 140036021421888] Epoch[5] Train-accuracy=0.758065\u001b[0m\n",
      "\u001b[34m[12/23/2021 14:02:38 INFO 140036021421888] Epoch[5] Time cost=17.842\u001b[0m\n",
      "\u001b[34m[12/23/2021 14:02:40 INFO 140036021421888] Epoch[5] Validation-accuracy=0.713542\u001b[0m\n",
      "\u001b[34m[12/23/2021 14:02:52 INFO 140036021421888] Epoch[6] Batch [20]#011Speed: 53.720 samples/sec#011accuracy=0.802083\u001b[0m\n",
      "\u001b[34m[12/23/2021 14:02:58 INFO 140036021421888] Epoch[6] Train-accuracy=0.799395\u001b[0m\n",
      "\u001b[34m[12/23/2021 14:02:58 INFO 140036021421888] Epoch[6] Time cost=17.807\u001b[0m\n",
      "\u001b[34m[12/23/2021 14:03:00 INFO 140036021421888] Epoch[6] Validation-accuracy=0.776042\u001b[0m\n",
      "\u001b[34m[12/23/2021 14:03:12 INFO 140036021421888] Epoch[7] Batch [20]#011Speed: 53.208 samples/sec#011accuracy=0.822917\u001b[0m\n",
      "\u001b[34m[12/23/2021 14:03:18 INFO 140036021421888] Epoch[7] Train-accuracy=0.821573\u001b[0m\n",
      "\u001b[34m[12/23/2021 14:03:18 INFO 140036021421888] Epoch[7] Time cost=17.918\u001b[0m\n",
      "\u001b[34m[12/23/2021 14:03:20 INFO 140036021421888] Epoch[7] Validation-accuracy=0.803571\u001b[0m\n",
      "\u001b[34m[12/23/2021 14:03:32 INFO 140036021421888] Epoch[8] Batch [20]#011Speed: 53.391 samples/sec#011accuracy=0.812500\u001b[0m\n",
      "\u001b[34m[12/23/2021 14:03:38 INFO 140036021421888] Epoch[8] Train-accuracy=0.825605\u001b[0m\n",
      "\u001b[34m[12/23/2021 14:03:38 INFO 140036021421888] Epoch[8] Time cost=17.885\u001b[0m\n",
      "\u001b[34m[12/23/2021 14:03:40 INFO 140036021421888] Epoch[8] Validation-accuracy=0.817708\u001b[0m\n",
      "\u001b[34m[12/23/2021 14:03:40 INFO 140036021421888] Storing the best model with validation accuracy: 0.817708\u001b[0m\n",
      "\u001b[34m[12/23/2021 14:03:40 INFO 140036021421888] Saved checkpoint to \"/opt/ml/model/image-classification-0009.params\"\u001b[0m\n",
      "\u001b[34m[12/23/2021 14:03:52 INFO 140036021421888] Epoch[9] Batch [20]#011Speed: 53.545 samples/sec#011accuracy=0.836310\u001b[0m\n",
      "\u001b[34m[12/23/2021 14:03:58 INFO 140036021421888] Epoch[9] Train-accuracy=0.835685\u001b[0m\n",
      "\u001b[34m[12/23/2021 14:03:58 INFO 140036021421888] Epoch[9] Time cost=17.847\u001b[0m\n",
      "\u001b[34m[12/23/2021 14:04:00 INFO 140036021421888] Epoch[9] Validation-accuracy=0.781250\u001b[0m\n",
      "\u001b[34m[12/23/2021 14:04:12 INFO 140036021421888] Epoch[10] Batch [20]#011Speed: 53.197 samples/sec#011accuracy=0.839286\u001b[0m\n",
      "\u001b[34m[12/23/2021 14:04:18 INFO 140036021421888] Epoch[10] Train-accuracy=0.848790\u001b[0m\n",
      "\u001b[34m[12/23/2021 14:04:18 INFO 140036021421888] Epoch[10] Time cost=17.926\u001b[0m\n",
      "\u001b[34m[12/23/2021 14:04:20 INFO 140036021421888] Epoch[10] Validation-accuracy=0.817708\u001b[0m\n",
      "\u001b[34m[12/23/2021 14:04:32 INFO 140036021421888] Epoch[11] Batch [20]#011Speed: 53.675 samples/sec#011accuracy=0.825893\u001b[0m\n",
      "\u001b[34m[12/23/2021 14:04:38 INFO 140036021421888] Epoch[11] Train-accuracy=0.833669\u001b[0m\n",
      "\u001b[34m[12/23/2021 14:04:38 INFO 140036021421888] Epoch[11] Time cost=17.797\u001b[0m\n",
      "\u001b[34m[12/23/2021 14:04:40 INFO 140036021421888] Epoch[11] Validation-accuracy=0.821429\u001b[0m\n",
      "\u001b[34m[12/23/2021 14:04:40 INFO 140036021421888] Storing the best model with validation accuracy: 0.821429\u001b[0m\n",
      "\u001b[34m[12/23/2021 14:04:40 INFO 140036021421888] Saved checkpoint to \"/opt/ml/model/image-classification-0012.params\"\u001b[0m\n",
      "\u001b[34m[12/23/2021 14:04:52 INFO 140036021421888] Epoch[12] Batch [20]#011Speed: 53.483 samples/sec#011accuracy=0.839286\u001b[0m\n",
      "\u001b[34m[12/23/2021 14:04:58 INFO 140036021421888] Epoch[12] Train-accuracy=0.842742\u001b[0m\n",
      "\u001b[34m[12/23/2021 14:04:58 INFO 140036021421888] Epoch[12] Time cost=17.848\u001b[0m\n",
      "\u001b[34m[12/23/2021 14:05:00 INFO 140036021421888] Epoch[12] Validation-accuracy=0.817708\u001b[0m\n",
      "\u001b[34m[12/23/2021 14:05:12 INFO 140036021421888] Epoch[13] Batch [20]#011Speed: 53.214 samples/sec#011accuracy=0.839286\u001b[0m\n",
      "\u001b[34m[12/23/2021 14:05:18 INFO 140036021421888] Epoch[13] Train-accuracy=0.846774\u001b[0m\n",
      "\u001b[34m[12/23/2021 14:05:18 INFO 140036021421888] Epoch[13] Time cost=17.914\u001b[0m\n",
      "\u001b[34m[12/23/2021 14:05:20 INFO 140036021421888] Epoch[13] Validation-accuracy=0.812500\u001b[0m\n",
      "\u001b[34m[12/23/2021 14:05:32 INFO 140036021421888] Epoch[14] Batch [20]#011Speed: 53.428 samples/sec#011accuracy=0.883929\u001b[0m\n",
      "\u001b[34m[12/23/2021 14:05:38 INFO 140036021421888] Epoch[14] Train-accuracy=0.885081\u001b[0m\n",
      "\u001b[34m[12/23/2021 14:05:38 INFO 140036021421888] Epoch[14] Time cost=17.858\u001b[0m\n",
      "\u001b[34m[12/23/2021 14:05:39 INFO 140036021421888] Epoch[14] Validation-accuracy=0.833333\u001b[0m\n",
      "\u001b[34m[12/23/2021 14:05:40 INFO 140036021421888] Storing the best model with validation accuracy: 0.833333\u001b[0m\n",
      "\u001b[34m[12/23/2021 14:05:40 INFO 140036021421888] Saved checkpoint to \"/opt/ml/model/image-classification-0015.params\"\u001b[0m\n",
      "\u001b[34m[12/23/2021 14:05:52 INFO 140036021421888] Epoch[15] Batch [20]#011Speed: 53.610 samples/sec#011accuracy=0.863095\u001b[0m\n",
      "\u001b[34m[12/23/2021 14:05:58 INFO 140036021421888] Epoch[15] Train-accuracy=0.854839\u001b[0m\n",
      "\u001b[34m[12/23/2021 14:05:58 INFO 140036021421888] Epoch[15] Time cost=17.834\u001b[0m\n",
      "\u001b[34m[12/23/2021 14:06:00 INFO 140036021421888] Epoch[15] Validation-accuracy=0.812500\u001b[0m\n",
      "\u001b[34m[12/23/2021 14:06:12 INFO 140036021421888] Epoch[16] Batch [20]#011Speed: 52.494 samples/sec#011accuracy=0.886905\u001b[0m\n",
      "\u001b[34m[12/23/2021 14:06:18 INFO 140036021421888] Epoch[16] Train-accuracy=0.872984\u001b[0m\n",
      "\u001b[34m[12/23/2021 14:06:18 INFO 140036021421888] Epoch[16] Time cost=18.080\u001b[0m\n",
      "\u001b[34m[12/23/2021 14:06:20 INFO 140036021421888] Epoch[16] Validation-accuracy=0.838542\u001b[0m\n",
      "\u001b[34m[12/23/2021 14:06:20 INFO 140036021421888] Storing the best model with validation accuracy: 0.838542\u001b[0m\n",
      "\u001b[34m[12/23/2021 14:06:21 INFO 140036021421888] Saved checkpoint to \"/opt/ml/model/image-classification-0017.params\"\u001b[0m\n",
      "\u001b[34m[12/23/2021 14:06:32 INFO 140036021421888] Epoch[17] Batch [20]#011Speed: 53.588 samples/sec#011accuracy=0.898810\u001b[0m\n",
      "\u001b[34m[12/23/2021 14:06:38 INFO 140036021421888] Epoch[17] Train-accuracy=0.903226\u001b[0m\n",
      "\u001b[34m[12/23/2021 14:06:38 INFO 140036021421888] Epoch[17] Time cost=17.832\u001b[0m\n",
      "\u001b[34m[12/23/2021 14:06:40 INFO 140036021421888] Epoch[17] Validation-accuracy=0.765625\u001b[0m\n",
      "\u001b[34m[12/23/2021 14:06:52 INFO 140036021421888] Epoch[18] Batch [20]#011Speed: 53.562 samples/sec#011accuracy=0.860119\u001b[0m\n",
      "\u001b[34m[12/23/2021 14:06:58 INFO 140036021421888] Epoch[18] Train-accuracy=0.869960\u001b[0m\n",
      "\u001b[34m[12/23/2021 14:06:58 INFO 140036021421888] Epoch[18] Time cost=17.866\u001b[0m\n",
      "\u001b[34m[12/23/2021 14:07:00 INFO 140036021421888] Epoch[18] Validation-accuracy=0.817708\u001b[0m\n",
      "\u001b[34m[12/23/2021 14:07:12 INFO 140036021421888] Epoch[19] Batch [20]#011Speed: 53.159 samples/sec#011accuracy=0.906250\u001b[0m\n",
      "\u001b[34m[12/23/2021 14:07:18 INFO 140036021421888] Epoch[19] Train-accuracy=0.892137\u001b[0m\n",
      "\u001b[34m[12/23/2021 14:07:18 INFO 140036021421888] Epoch[19] Time cost=17.967\u001b[0m\n",
      "\u001b[34m[12/23/2021 14:07:20 INFO 140036021421888] Epoch[19] Validation-accuracy=0.812500\u001b[0m\n",
      "\u001b[34m[12/23/2021 14:07:32 INFO 140036021421888] Epoch[20] Batch [20]#011Speed: 53.330 samples/sec#011accuracy=0.910714\u001b[0m\n",
      "\u001b[34m[12/23/2021 14:07:38 INFO 140036021421888] Epoch[20] Train-accuracy=0.905242\u001b[0m\n",
      "\u001b[34m[12/23/2021 14:07:38 INFO 140036021421888] Epoch[20] Time cost=17.887\u001b[0m\n",
      "\u001b[34m[12/23/2021 14:07:40 INFO 140036021421888] Epoch[20] Validation-accuracy=0.822917\u001b[0m\n",
      "\u001b[34m[12/23/2021 14:07:52 INFO 140036021421888] Epoch[21] Batch [20]#011Speed: 53.487 samples/sec#011accuracy=0.913690\u001b[0m\n",
      "\u001b[34m[12/23/2021 14:07:58 INFO 140036021421888] Epoch[21] Train-accuracy=0.916331\u001b[0m\n",
      "\u001b[34m[12/23/2021 14:07:58 INFO 140036021421888] Epoch[21] Time cost=17.854\u001b[0m\n",
      "\u001b[34m[12/23/2021 14:08:00 INFO 140036021421888] Epoch[21] Validation-accuracy=0.817708\u001b[0m\n",
      "\u001b[34m[12/23/2021 14:08:12 INFO 140036021421888] Epoch[22] Batch [20]#011Speed: 52.981 samples/sec#011accuracy=0.927083\u001b[0m\n",
      "\u001b[34m[12/23/2021 14:08:18 INFO 140036021421888] Epoch[22] Train-accuracy=0.918347\u001b[0m\n",
      "\u001b[34m[12/23/2021 14:08:18 INFO 140036021421888] Epoch[22] Time cost=17.963\u001b[0m\n",
      "\u001b[34m[12/23/2021 14:08:20 INFO 140036021421888] Epoch[22] Validation-accuracy=0.854167\u001b[0m\n",
      "\u001b[34m[12/23/2021 14:08:20 INFO 140036021421888] Storing the best model with validation accuracy: 0.854167\u001b[0m\n",
      "\u001b[34m[12/23/2021 14:08:20 INFO 140036021421888] Saved checkpoint to \"/opt/ml/model/image-classification-0023.params\"\u001b[0m\n",
      "\u001b[34m[12/23/2021 14:08:32 INFO 140036021421888] Epoch[23] Batch [20]#011Speed: 53.481 samples/sec#011accuracy=0.925595\u001b[0m\n",
      "\u001b[34m[12/23/2021 14:08:38 INFO 140036021421888] Epoch[23] Train-accuracy=0.928427\u001b[0m\n",
      "\u001b[34m[12/23/2021 14:08:38 INFO 140036021421888] Epoch[23] Time cost=17.873\u001b[0m\n",
      "\u001b[34m[12/23/2021 14:08:40 INFO 140036021421888] Epoch[23] Validation-accuracy=0.830357\u001b[0m\n",
      "\u001b[34m[12/23/2021 14:08:52 INFO 140036021421888] Epoch[24] Batch [20]#011Speed: 53.124 samples/sec#011accuracy=0.950893\u001b[0m\n",
      "\u001b[34m[12/23/2021 14:08:58 INFO 140036021421888] Epoch[24] Train-accuracy=0.943548\u001b[0m\n",
      "\u001b[34m[12/23/2021 14:08:58 INFO 140036021421888] Epoch[24] Time cost=17.941\u001b[0m\n",
      "\u001b[34m[12/23/2021 14:09:00 INFO 140036021421888] Epoch[24] Validation-accuracy=0.843750\u001b[0m\n",
      "\u001b[34m[12/23/2021 14:09:12 INFO 140036021421888] Epoch[25] Batch [20]#011Speed: 53.071 samples/sec#011accuracy=0.916667\u001b[0m\n",
      "\u001b[34m[12/23/2021 14:09:18 INFO 140036021421888] Epoch[25] Train-accuracy=0.917339\u001b[0m\n",
      "\u001b[34m[12/23/2021 14:09:18 INFO 140036021421888] Epoch[25] Time cost=17.956\u001b[0m\n",
      "\u001b[34m[12/23/2021 14:09:20 INFO 140036021421888] Epoch[25] Validation-accuracy=0.817708\u001b[0m\n",
      "\u001b[34m[12/23/2021 14:09:32 INFO 140036021421888] Epoch[26] Batch [20]#011Speed: 53.695 samples/sec#011accuracy=0.910714\u001b[0m\n",
      "\u001b[34m[12/23/2021 14:09:38 INFO 140036021421888] Epoch[26] Train-accuracy=0.926411\u001b[0m\n",
      "\u001b[34m[12/23/2021 14:09:38 INFO 140036021421888] Epoch[26] Time cost=17.811\u001b[0m\n",
      "\u001b[34m[12/23/2021 14:09:40 INFO 140036021421888] Epoch[26] Validation-accuracy=0.817708\u001b[0m\n",
      "\u001b[34m[12/23/2021 14:09:52 INFO 140036021421888] Epoch[27] Batch [20]#011Speed: 53.724 samples/sec#011accuracy=0.958333\u001b[0m\n",
      "\u001b[34m[12/23/2021 14:09:58 INFO 140036021421888] Epoch[27] Train-accuracy=0.952621\u001b[0m\n",
      "\u001b[34m[12/23/2021 14:09:58 INFO 140036021421888] Epoch[27] Time cost=17.794\u001b[0m\n",
      "\u001b[34m[12/23/2021 14:10:00 INFO 140036021421888] Epoch[27] Validation-accuracy=0.834821\u001b[0m\n",
      "\u001b[34m[12/23/2021 14:10:12 INFO 140036021421888] Epoch[28] Batch [20]#011Speed: 53.052 samples/sec#011accuracy=0.967262\u001b[0m\n",
      "\u001b[34m[12/23/2021 14:10:18 INFO 140036021421888] Epoch[28] Train-accuracy=0.963710\u001b[0m\n",
      "\u001b[34m[12/23/2021 14:10:18 INFO 140036021421888] Epoch[28] Time cost=17.956\u001b[0m\n",
      "\u001b[34m[12/23/2021 14:10:19 INFO 140036021421888] Epoch[28] Validation-accuracy=0.796875\u001b[0m\n",
      "\n",
      "2021-12-23 14:10:44 Uploading - Uploading generated training model\u001b[34m[12/23/2021 14:10:32 INFO 140036021421888] Epoch[29] Batch [20]#011Speed: 53.434 samples/sec#011accuracy=0.977679\u001b[0m\n",
      "\u001b[34m[12/23/2021 14:10:38 INFO 140036021421888] Epoch[29] Train-accuracy=0.970766\u001b[0m\n",
      "\u001b[34m[12/23/2021 14:10:38 INFO 140036021421888] Epoch[29] Time cost=17.891\u001b[0m\n",
      "\u001b[34m[12/23/2021 14:10:39 INFO 140036021421888] Epoch[29] Validation-accuracy=0.838542\u001b[0m\n",
      "\n",
      "2021-12-23 14:11:39 Completed - Training job completed\n",
      "ProfilerReport-1640267751: IssuesFound\n",
      "Training seconds: 762\n",
      "Billable seconds: 762\n"
     ]
    }
   ],
   "source": [
    "## TODO: train your model\n",
    "img_classifier_model.fit(model_inputs) #({'train': s3_input_train, 'validation': s3_input_validation})"
   ]
  },
  {
   "cell_type": "markdown",
   "metadata": {},
   "source": [
    "If all goes well, you'll end up with a model topping out above `.8` validation accuracy. With only 1000 training samples in the CIFAR dataset, that's pretty good. We could definitely pursue data augmentation & gathering more samples to help us improve further, but for now let's proceed to deploy our model.\n",
    "\n",
    "### Getting ready to deploy\n",
    "\n",
    "To begin with, let's configure Model Monitor to track our deployment. We'll define a `DataCaptureConfig` below:"
   ]
  },
  {
   "cell_type": "code",
   "execution_count": 16,
   "metadata": {},
   "outputs": [],
   "source": [
    "from sagemaker.model_monitor import DataCaptureConfig\n",
    "\n",
    "data_capture_config = DataCaptureConfig(\n",
    "    ## TODO: Set config options\n",
    "    enable_capture=True,\n",
    "    sampling_percentage=100,\n",
    "    destination_s3_uri=f\"s3://{bucket}/data_capture\"\n",
    ")"
   ]
  },
  {
   "cell_type": "markdown",
   "metadata": {},
   "source": [
    "Note the `destination_s3_uri` parameter: At the end of the project, we can explore the `data_capture` directory in S3 to find crucial data about the inputs and outputs Model Monitor has observed on our model endpoint over time.\n",
    "\n",
    "With that done, deploy your model on a single `ml.m5.xlarge` instance with the data capture config attached:"
   ]
  },
  {
   "cell_type": "code",
   "execution_count": 25,
   "metadata": {},
   "outputs": [],
   "source": [
    "deployment = img_classifier_model.deploy(\n",
    "    ## TODO: fill in deployment options\n",
    "    initial_instance_count=1, instance_type='ml.m5.xlarge',\n",
    "    data_capture_config=data_capture_config\n",
    "    )\n",
    "\n",
    "endpoint = deployment.endpoint_name\n",
    "print(endpoint)"
   ]
  },
  {
   "cell_type": "markdown",
   "metadata": {},
   "source": [
    "Note the endpoint name for later as well.\n",
    "\n",
    "Next, instantiate a Predictor:"
   ]
  },
  {
   "cell_type": "code",
   "execution_count": 18,
   "metadata": {},
   "outputs": [],
   "source": [
    "deployment.serializer = sagemaker.serializers.CSVSerializer() ## TODO: fill in"
   ]
  },
  {
   "cell_type": "code",
   "execution_count": 19,
   "metadata": {},
   "outputs": [],
   "source": [
    "predictor= deployment\n"
   ]
  },
  {
   "cell_type": "code",
   "execution_count": 20,
   "metadata": {},
   "outputs": [
    {
     "data": {
      "text/plain": [
       "<sagemaker.predictor.Predictor at 0x7fa8f41c7f10>"
      ]
     },
     "execution_count": 20,
     "metadata": {},
     "output_type": "execute_result"
    }
   ],
   "source": [
    "predictor"
   ]
  },
  {
   "cell_type": "markdown",
   "metadata": {},
   "source": [
    "In the code snippet below we are going to prepare one of your saved images for prediction. Use the predictor to process the `payload`."
   ]
  },
  {
   "cell_type": "code",
   "execution_count": 21,
   "metadata": {},
   "outputs": [],
   "source": [
    "from sagemaker.serializers import IdentitySerializer\n",
    "import base64\n",
    "\n",
    "predictor.serializer = IdentitySerializer(\"image/png\")\n",
    "with open(\"./test/bicycle_s_001789.png\", \"rb\") as f:\n",
    "    payload = f.read()\n",
    "\n",
    "    \n",
    "inference = predictor.predict(payload)## TODO: Process the payload with your predictor\n",
    "#x_pred = xgb_predictor.predict(inputs.sample(5).values).decode('utf-8')"
   ]
  },
  {
   "cell_type": "code",
   "execution_count": 24,
   "metadata": {},
   "outputs": [
    {
     "data": {
      "text/plain": [
       "b'[0.9984672665596008, 0.0015327068977057934]'"
      ]
     },
     "execution_count": 24,
     "metadata": {},
     "output_type": "execute_result"
    }
   ],
   "source": [
    "inference"
   ]
  },
  {
   "cell_type": "markdown",
   "metadata": {},
   "source": [
    "Your `inference` object is an array of two values, the predicted probability value for each of your classes (bicycle and motorcycle respectively.) So, for example, a value of `b'[0.91, 0.09]'` indicates the probability of being a bike is 91% and being a motorcycle is 9%."
   ]
  },
  {
   "cell_type": "code",
   "execution_count": 45,
   "metadata": {},
   "outputs": [
    {
     "name": "stdout",
     "output_type": "stream",
     "text": [
      "b'[0.31615474820137024, 0.6838452816009521]'\n"
     ]
    }
   ],
   "source": [
    "print(inference)"
   ]
  },
  {
   "cell_type": "markdown",
   "metadata": {},
   "source": [
    "### Draft Lambdas and Step Function Workflow\n",
    "\n",
    "Your operations team uses Step Functions to orchestrate serverless workflows. One of the nice things about Step Functions is that [workflows can call other workflows](https://docs.aws.amazon.com/step-functions/latest/dg/connect-stepfunctions.html), so the team can easily plug your workflow into the broader production architecture for Scones Unlimited.\n",
    "\n",
    "In this next stage you're going to write and deploy three Lambda functions, and then use the Step Functions visual editor to chain them together! Our functions are going to work with a simple data object:\n",
    "\n",
    "```python\n",
    "{\n",
    "    \"inferences\": [], # Output of predictor.predict\n",
    "    \"s3_key\": \"\", # Source data S3 key\n",
    "    \"s3_bucket\": \"\", # Source data S3 bucket\n",
    "    \"image_data\": \"\"  # base64 encoded string containing the image data\n",
    "}\n",
    "```\n",
    "\n",
    "A good test object that you can use for Lambda tests and Step Function executions, throughout the next section, might look like this:\n",
    "\n",
    "```python\n",
    "{\n",
    "  \"image_data\": \"\",\n",
    "  \"s3_bucket\": MY_BUCKET_NAME, # Fill in with your bucket\n",
    "  \"s3_key\": \"test/bicycle_s_000513.png\"\n",
    "}\n",
    "```\n",
    "\n",
    "Using these fields, your functions can read and write the necessary data to execute your workflow. Let's start with the first function. Your first Lambda function will copy an object from S3, base64 encode it, and then return it to the step function as `image_data` in an event.\n",
    "\n",
    "Go to the Lambda dashboard and create a new Lambda function with a descriptive name like \"serializeImageData\" and select thr 'Python 3.8' runtime. Add the same permissions as the SageMaker role you created earlier. (Reminder: you do this in the Configuration tab under \"Permissions\"). Once you're ready, use the starter code below to craft your Lambda handler:\n",
    "\n",
    "```python\n",
    "import json\n",
    "import boto3\n",
    "import base64\n",
    "\n",
    "s3 = boto3.client('s3')\n",
    "\n",
    "def lambda_handler(event, context):\n",
    "    \"\"\"A function to serialize target data from S3\"\"\"\n",
    "    \n",
    "    # Get the s3 address from the Step Function event input\n",
    "    key = ## TODO: fill in\n",
    "    bucket = ## TODO: fill in\n",
    "    \n",
    "    # Download the data from s3 to /tmp/image.png\n",
    "    ## TODO: fill in\n",
    "    \n",
    "    # We read the data from a file\n",
    "    with open(\"/tmp/image.png\", \"rb\") as f:\n",
    "        image_data = base64.b64encode(f.read())\n",
    "\n",
    "    # Pass the data back to the Step Function\n",
    "    print(\"Event:\", event.keys())\n",
    "    return {\n",
    "        'statusCode': 200,\n",
    "        'body': {\n",
    "            \"image_data\": image_data,\n",
    "            \"s3_bucket\": bucket,\n",
    "            \"s3_key\": key,\n",
    "            \"inferences\": []\n",
    "        }\n",
    "    }\n",
    "```\n",
    "\n",
    "The next function is responsible for the classification part - we're going to take the image output from the previous function, decode it, and then pass inferences back to the the Step Function.\n",
    "\n",
    "Because this Lambda will have runtime dependencies (i.e. the SageMaker SDK) you'll need to package them in your function. *Key reading:* https://docs.aws.amazon.com/lambda/latest/dg/python-package-create.html#python-package-create-with-dependency\n",
    "\n",
    "Create a new Lambda function with the same rights and a descriptive name, then fill in the starter code below for your classifier Lambda.\n",
    "\n",
    "```python\n",
    "import json\n",
    "import sagemaker\n",
    "import base64\n",
    "from sagemaker.serializers import IdentitySerializer\n",
    "\n",
    "# Fill this in with the name of your deployed model\n",
    "ENDPOINT = ## TODO: fill in\n",
    "\n",
    "def lambda_handler(event, context):\n",
    "\n",
    "    # Decode the image data\n",
    "    image = base64.b64decode(## TODO: fill in)\n",
    "\n",
    "    # Instantiate a Predictor\n",
    "    predictor = ## TODO: fill in\n",
    "\n",
    "    # For this model the IdentitySerializer needs to be \"image/png\"\n",
    "    predictor.serializer = IdentitySerializer(\"image/png\")\n",
    "    \n",
    "    # Make a prediction:\n",
    "    inferences = ## TODO: fill in\n",
    "    \n",
    "    # We return the data back to the Step Function    \n",
    "    event[\"inferences\"] = inferences.decode('utf-8')\n",
    "    return {\n",
    "        'statusCode': 200,\n",
    "        'body': json.dumps(event)\n",
    "    }\n",
    "```\n",
    "\n",
    "Finally, we need to filter low-confidence inferences. Define a threshold between 1.00 and 0.000 for your model: what is reasonble for you? If the model predicts at `.70` for it's highest confidence label, do we want to pass that inference along to downstream systems? Make one last Lambda function and tee up the same permissions:\n",
    "\n",
    "```python\n",
    "import json\n",
    "\n",
    "\n",
    "THRESHOLD = .93\n",
    "\n",
    "\n",
    "def lambda_handler(event, context):\n",
    "    \n",
    "    # Grab the inferences from the event\n",
    "    inferences = ## TODO: fill in\n",
    "    \n",
    "    # Check if any values in our inferences are above THRESHOLD\n",
    "    meets_threshold = ## TODO: fill in\n",
    "    \n",
    "    # If our threshold is met, pass our data back out of the\n",
    "    # Step Function, else, end the Step Function with an error\n",
    "    if meets_threshold:\n",
    "        pass\n",
    "    else:\n",
    "        raise(\"THRESHOLD_CONFIDENCE_NOT_MET\")\n",
    "\n",
    "    return {\n",
    "        'statusCode': 200,\n",
    "        'body': json.dumps(event)\n",
    "    }\n",
    "```\n",
    "Once you have tested the lambda functions, save the code for each lambda function in a python script called 'lambda.py'.\n",
    "\n",
    "With your lambdas in place, you can use the Step Functions visual editor to construct a workflow that chains them together. In the Step Functions console you'll have the option to author a Standard step function *Visually*.\n",
    "\n",
    "When the visual editor opens, you'll have many options to add transitions in your workflow. We're going to keep it simple and have just one: to invoke Lambda functions. Add three of them chained together. For each one, you'll be able to select the Lambda functions you just created in the proper order, filter inputs and outputs, and give them descriptive names.\n",
    "\n",
    "Make sure that you:\n",
    "\n",
    "1. Are properly filtering the inputs and outputs of your invokations (e.g. `$.body`)\n",
    "2. Take care to remove the error handling from the last function - it's supposed to \"fail loudly\" for your operations colleagues!\n",
    "\n",
    "Take a screenshot of your working step function in action and export the step function as JSON for your submission package."
   ]
  },
  {
   "cell_type": "markdown",
   "metadata": {},
   "source": [
    "\n",
    "Great! Now you can use the files in `./test` as test files for our workflow. Depending on our threshold, our workflow should reliably pass predictions about images from `./test` on to downstream systems, while erroring out for inferences below our confidence threshold!\n",
    "\n",
    "### Testing and Evaluation\n",
    "\n",
    "Do several step function invokations using data from the `./test` folder. This process should give you confidence that the workflow both *succeeds* AND *fails* as expected. In addition, SageMaker Model Monitor will generate recordings of your data and inferences which we can visualize.\n",
    "\n",
    "Here's a function that can help you generate test inputs for your invokations:"
   ]
  },
  {
   "cell_type": "code",
   "execution_count": 4,
   "metadata": {},
   "outputs": [
    {
     "data": {
      "text/plain": [
       "'{\"image_data\": \"\", \"s3_bucket\": \"new-lesson\", \"s3_key\": \"test/motorcycle_s_002126.png\"}'"
      ]
     },
     "execution_count": 4,
     "metadata": {},
     "output_type": "execute_result"
    }
   ],
   "source": [
    "import random\n",
    "import boto3\n",
    "import json\n",
    "\n",
    "\n",
    "def generate_test_case():\n",
    "    # Setup s3 in boto3\n",
    "    s3 = boto3.resource('s3')\n",
    "    \n",
    "    # Randomly pick from sfn or test folders in our bucket\n",
    " \n",
    "    objects = s3.Bucket(bucket).objects.filter(Prefix=\"test\")\n",
    "    \n",
    "    # Grab any random object key from that folder!\n",
    "    obj = random.choice([x.key for x in objects])\n",
    "    \n",
    "    return json.dumps({\n",
    "        \"image_data\": \"\",\n",
    "        \"s3_bucket\": bucket,\n",
    "        \"s3_key\": obj\n",
    "    })\n",
    "generate_test_case()"
   ]
  },
  {
   "cell_type": "markdown",
   "metadata": {},
   "source": [
    "In the Step Function dashboard for your new function, you can create new executions and copy in the generated test cases. Do several executions so that you can generate data you can evaluate and visualize.\n",
    "\n",
    "Once you've done several executions, let's visualize the record of our inferences. Pull in the JSONLines data from your inferences like so:"
   ]
  },
  {
   "cell_type": "code",
   "execution_count": 5,
   "metadata": {},
   "outputs": [],
   "source": [
    "from sagemaker.s3 import S3Downloader\n",
    "\n",
    "# In S3 your data will be saved to a datetime-aware path\n",
    "# Find a path related to a datetime you're interested in\n",
    "data_path = \"s3://new-lesson/data_capture/image-classification-2021-12-23-02-09-21-189/AllTraffic/2021/12/23/02/\" ## TODO: fill in the path to your captured data\n",
    "\n",
    "S3Downloader.download(data_path, \"captured_data\")\n",
    "\n",
    "# Feel free to repeat this multiple times and pull in more data"
   ]
  },
  {
   "cell_type": "markdown",
   "metadata": {},
   "source": [
    "The data are in JSONLines format, where multiple valid JSON objects are stacked on top of eachother in a single `jsonl` file. We'll import an open-source library, `jsonlines` that was purpose built for parsing this format."
   ]
  },
  {
   "cell_type": "code",
   "execution_count": 6,
   "metadata": {},
   "outputs": [
    {
     "name": "stdout",
     "output_type": "stream",
     "text": [
      "/opt/conda/lib/python3.7/site-packages/secretstorage/dhcrypto.py:16: CryptographyDeprecationWarning: int_from_bytes is deprecated, use int.from_bytes instead\n",
      "  from cryptography.utils import int_from_bytes\n",
      "/opt/conda/lib/python3.7/site-packages/secretstorage/util.py:25: CryptographyDeprecationWarning: int_from_bytes is deprecated, use int.from_bytes instead\n",
      "  from cryptography.utils import int_from_bytes\n",
      "Requirement already satisfied: jsonlines in /opt/conda/lib/python3.7/site-packages (3.0.0)\n",
      "Requirement already satisfied: typing-extensions in /opt/conda/lib/python3.7/site-packages (from jsonlines) (4.0.1)\n",
      "Requirement already satisfied: attrs>=19.2.0 in /opt/conda/lib/python3.7/site-packages (from jsonlines) (19.3.0)\n",
      "\u001b[33mWARNING: Running pip as the 'root' user can result in broken permissions and conflicting behaviour with the system package manager. It is recommended to use a virtual environment instead: https://pip.pypa.io/warnings/venv\u001b[0m\n"
     ]
    }
   ],
   "source": [
    "!pip install jsonlines\n",
    "import jsonlines"
   ]
  },
  {
   "cell_type": "markdown",
   "metadata": {},
   "source": [
    "Now we can extract the data from each of the source files:"
   ]
  },
  {
   "cell_type": "code",
   "execution_count": 28,
   "metadata": {},
   "outputs": [],
   "source": [
    "import os\n",
    "\n",
    "# List the file names we downloaded\n",
    "file_handles = os.listdir(\"./captured_data\")\n",
    "\n",
    "# Dump all the data into an array\n",
    "json_data = []\n",
    "for jsonl in file_handles:\n",
    "    with jsonlines.open(f\"./captured_data/{jsonl}\") as f:\n",
    "        json_data.append(f.read())"
   ]
  },
  {
   "cell_type": "markdown",
   "metadata": {},
   "source": [
    "The data should now be a list of dictionaries, with significant nesting. We'll give you an example of some code that grabs data out of the objects and visualizes it:"
   ]
  },
  {
   "cell_type": "code",
   "execution_count": 29,
   "metadata": {},
   "outputs": [
    {
     "data": {
      "text/plain": [
       "([0.31615474820137024, 0.6838452816009521], '2021-12-23T02:16:54Z')"
      ]
     },
     "execution_count": 29,
     "metadata": {},
     "output_type": "execute_result"
    }
   ],
   "source": [
    "# Define how we'll get our data\n",
    "def simple_getter(obj):\n",
    "    inferences = obj[\"captureData\"][\"endpointOutput\"][\"data\"]\n",
    "    timestamp = obj[\"eventMetadata\"][\"inferenceTime\"]\n",
    "    return json.loads(inferences), timestamp\n",
    "\n",
    "simple_getter(json_data[0])"
   ]
  },
  {
   "cell_type": "markdown",
   "metadata": {},
   "source": [
    "Finally, here's an example of a visualization you can build with this data. In this last part, you will take some time and build your own - the captured data has the input images, the resulting inferences, and the timestamps."
   ]
  },
  {
   "cell_type": "code",
   "execution_count": 31,
   "metadata": {},
   "outputs": [
    {
     "data": {
      "image/png": "[encoded data removed]",
      "text/plain": [
       "<Figure size 432x288 with 1 Axes>"
      ]
     },
     "metadata": {
      "needs_background": "light"
     },
     "output_type": "display_data"
    }
   ],
   "source": [
    "import matplotlib.pyplot as plt\n",
    "\n",
    "# Populate the data for the x and y axis\n",
    "x = []\n",
    "y = []\n",
    "for obj in json_data:\n",
    "    inference, timestamp = simple_getter(obj)\n",
    "    \n",
    "    y.append(max(inference))\n",
    "    x.append(timestamp)\n",
    "\n",
    "# Todo: here is an visualization example, take some time to build another visual that helps monitor the result\n",
    "# Plot the data\n",
    "plt.scatter(x, y, c=['r' if k<.94 else 'b' for k in y ])\n",
    "plt.axhline(y=0.94, color='g', linestyle='--')\n",
    "plt.ylim(bottom=.88)\n",
    "\n",
    "# Add labels\n",
    "plt.ylabel(\"Confidence\")\n",
    "plt.suptitle(\"Observed Recent Inferences\", size=14)\n",
    "plt.title(\"Pictured with confidence threshold for production use\", size=10)\n",
    "\n",
    "# Give it some pizzaz!\n",
    "plt.style.use(\"Solarize_Light2\")\n",
    "plt.gcf().autofmt_xdate()"
   ]
  },
  {
   "cell_type": "markdown",
   "metadata": {},
   "source": [
    "### Todo: build your own visualization\n"
   ]
  },
  {
   "cell_type": "code",
   "execution_count": 44,
   "metadata": {},
   "outputs": [
    {
     "data": {
      "text/plain": [
       "([<matplotlib.patches.Wedge at 0x7f91d0cf8710>,\n",
       "  <matplotlib.patches.Wedge at 0x7f91d0cf8850>,\n",
       "  <matplotlib.patches.Wedge at 0x7f91d0cf8950>,\n",
       "  <matplotlib.patches.Wedge at 0x7f91d0d04390>,\n",
       "  <matplotlib.patches.Wedge at 0x7f91d0d04650>,\n",
       "  <matplotlib.patches.Wedge at 0x7f91d0d11210>],\n",
       " [Text(0.9206257314299939, 0.602036761858434, '2021-12-23T02:16:54Z'),\n",
       "  Text(-0.018634891921065166, 1.0998421435838375, '2021-12-23T02:42:17Z'),\n",
       "  Text(-0.844896213145019, 0.7043794353991369, '2021-12-23T02:38:22Z'),\n",
       "  Text(-0.9206255341463208, -0.6020370635416077, '2021-12-16T16:21:46Z'),\n",
       "  Text(0.30656537662154953, -1.056417374836711, '2021-12-23T02:34:13Z'),\n",
       "  Text(1.0001129782621576, -0.45801095042760415, '2021-12-23T02:39:37Z')])"
      ]
     },
     "execution_count": 44,
     "metadata": {},
     "output_type": "execute_result"
    },
    {
     "data": {
      "image/png": "[encoded data removed]",
      "text/plain": [
       "<Figure size 432x288 with 1 Axes>"
      ]
     },
     "metadata": {},
     "output_type": "display_data"
    }
   ],
   "source": [
    "plt.pie(y, labels=x)\n"
   ]
  },
  {
   "cell_type": "code",
   "execution_count": 45,
   "metadata": {},
   "outputs": [
    {
     "data": {
      "image/png": "[encoded data removed]",
      "text/plain": [
       "<Figure size 432x288 with 1 Axes>"
      ]
     },
     "metadata": {},
     "output_type": "display_data"
    }
   ],
   "source": [
    "plt.hist(y)\n",
    "plt.show()"
   ]
  },
  {
   "cell_type": "code",
   "execution_count": 47,
   "metadata": {},
   "outputs": [
    {
     "data": {
      "image/png": "[encoded data removed]",
      "text/plain": [
       "<Figure size 432x288 with 1 Axes>"
      ]
     },
     "metadata": {},
     "output_type": "display_data"
    }
   ],
   "source": [
    "plt.bar(y,x)\n",
    "plt.show()"
   ]
  },
  {
   "cell_type": "code",
   "execution_count": 48,
   "metadata": {},
   "outputs": [
    {
     "data": {
      "image/png": "[encoded data removed]",
      "text/plain": [
       "<Figure size 432x288 with 1 Axes>"
      ]
     },
     "metadata": {},
     "output_type": "display_data"
    }
   ],
   "source": [
    "plt.bar(x,y)\n",
    "plt.show()"
   ]
  },
  {
   "cell_type": "markdown",
   "metadata": {},
   "source": [
    "### Congratulations!\n",
    "\n",
    "You've reached the end of the project. In this project you created an event-drivent ML workflow that can be incorporated into the Scones Unlimited production architecture. You used the SageMaker Estimator API to deploy your SageMaker Model and Endpoint, and you used AWS Lambda and Step Functions to orchestrate your ML workflow. Using SageMaker Model Monitor, you instrumented and observed your Endpoint, and at the end of the project you built a visualization to help stakeholders understand the performance of the Endpoint over time. If you're up for it, you can even go further with these stretch goals:\n",
    "\n",
    "* Extend your workflow to incorporate more classes: the CIFAR dataset includes other vehicles that Scones Unlimited can identify with this model.\n",
    "* Modify your event driven workflow: can you rewrite your Lambda functions so that the workflow can process multiple image inputs in parallel? Can the Step Function \"fan out\" to accomodate this new workflow?\n",
    "* Consider the test data generator we provided for you. Can we use it to create a \"dummy data\" generator, to simulate a continuous stream of input data? Or a big paralell load of data?\n",
    "* What if we want to get notified every time our step function errors out? Can we use the Step Functions visual editor in conjunction with a service like SNS to accomplish this? Try it out!\n",
    "\n",
    "\n"
   ]
  }
 ],
 "metadata": {
  "instance_type": "ml.t3.medium",
  "kernelspec": {
   "display_name": "Python 3 (Data Science)",
   "language": "python",
   "name": "python3__SAGEMAKER_INTERNAL__arn:aws:sagemaker:us-east-1:081325390199:image/datascience-1.0"
  },
  "language_info": {
   "codemirror_mode": {
    "name": "ipython",
    "version": 3
   },
   "file_extension": ".py",
   "mimetype": "text/x-python",
   "name": "python",
   "nbconvert_exporter": "python",
   "pygments_lexer": "ipython3",
   "version": "3.7.10"
  }
 },
 "nbformat": 4,
 "nbformat_minor": 4
}
